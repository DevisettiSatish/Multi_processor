{
  "nbformat": 4,
  "nbformat_minor": 0,
  "metadata": {
    "colab": {
      "provenance": []
    },
    "kernelspec": {
      "name": "python3",
      "display_name": "Python 3"
    },
    "language_info": {
      "name": "python"
    }
  },
  "cells": [
    {
      "cell_type": "code",
      "execution_count": 1,
      "metadata": {
        "colab": {
          "base_uri": "https://localhost:8080/"
        },
        "id": "F7_KFYBNn7eg",
        "outputId": "d1a01da7-f64d-4abc-f7a4-8c3598f6ddfb"
      },
      "outputs": [
        {
          "output_type": "stream",
          "name": "stdout",
          "text": [
            "Main Processor id : 2923\n",
            "Processor Id : 3035\n",
            "Processor Id : 3038\n",
            "india -> 11\n",
            "usa -> 11\n",
            "india -> 12\n",
            "usa -> 12\n",
            "india -> 13\n",
            "usa -> 13\n",
            "india -> 14\n",
            "usa -> 14\n",
            "india -> 15\n",
            "usa -> 15\n",
            "india -> 16\n",
            "usa -> 16\n",
            "india -> 17\n",
            "usa -> 17\n",
            "india -> 18\n",
            "usa -> 18\n",
            "india -> 19\n",
            "usa -> 19\n",
            "india -> 20\n",
            "usa -> 20\n",
            "total time : 5.270867586135864\n"
          ]
        }
      ],
      "source": [
        "from multiprocessing import Process\n",
        "\n",
        "import os\n",
        "import multiprocessing\n",
        "import time\n",
        "\n",
        "\n",
        "def india():\n",
        "    print(f'Processor Id : {os.getpid()}')\n",
        "    for i in range(11,21):\n",
        "        time.sleep(0.5)\n",
        "        print(f'india -> {i}')\n",
        "\n",
        "def usa():\n",
        "    print(f'Processor Id : {os.getpid()}')\n",
        "    for j in range(11,21):\n",
        "        time.sleep(0.5)\n",
        "        print(f'usa -> {j}')\n",
        "\n",
        "\n",
        "if __name__ == \"__main__\":\n",
        "    starting_time = time.time()\n",
        "\n",
        "    print(f'Main Processor id : {os.getpid()}')\n",
        "\n",
        "    cpu1 = Process(target=india,args=())\n",
        "\n",
        "    cpu2 = Process(target=usa,args=())\n",
        "\n",
        "    cpu1.start()\n",
        "    cpu2.start()\n",
        "\n",
        "    cpu1.join()\n",
        "    cpu2.join()\n",
        "\n",
        "    print(f'total time : {time.time() - starting_time}')"
      ]
    },
    {
      "cell_type": "code",
      "source": [
        "from multiprocessing import Process\n",
        "\n",
        "import os\n",
        "import multiprocessing\n",
        "import time"
      ],
      "metadata": {
        "id": "R8d68HAToNLH"
      },
      "execution_count": 2,
      "outputs": []
    },
    {
      "cell_type": "code",
      "source": [
        "\n",
        "def india():\n",
        "    print(f'Processor Id : {os.getpid()}')\n",
        "    for i in range(11,21):\n",
        "        time.sleep(0.5)\n",
        "        print(f'india -> {i}')\n",
        "\n",
        "def usa():\n",
        "    print(f'Processor Id : {os.getpid()}')\n",
        "    for j in range(11,21):\n",
        "        time.sleep(0.5)\n",
        "        print(f'usa -> {j}')\n",
        "\n",
        "\n",
        "if __name__ == \"__main__\":\n",
        "    starting_time = time.time()\n",
        "\n",
        "    print(f'Main Processor id : {os.getpid()}')\n",
        "\n",
        "    cpu1 = Process(target=india,args=())\n",
        "\n",
        "    cpu2 = Process(target=usa,args=())\n",
        "\n",
        "    cpu1.start()\n",
        "    cpu2.start()\n",
        "\n",
        "    cpu1.join()\n",
        "    cpu2.join()\n",
        "\n",
        "    print(f'total time : {time.time() - starting_time}')"
      ],
      "metadata": {
        "colab": {
          "base_uri": "https://localhost:8080/"
        },
        "id": "gO_zeUqnoRd6",
        "outputId": "d78d1132-594a-4cdb-a345-15b0d7fe81b0"
      },
      "execution_count": 3,
      "outputs": [
        {
          "output_type": "stream",
          "name": "stdout",
          "text": [
            "Main Processor id : 2923\n",
            "Processor Id : 3447\n",
            "Processor Id : 3450\n",
            "india -> 11\n",
            "usa -> 11\n",
            "india -> 12\n",
            "usa -> 12\n",
            "india -> 13\n",
            "usa -> 13\n",
            "india -> 14\n",
            "usa -> 14\n",
            "india -> 15\n",
            "usa -> 15\n",
            "india -> 16\n",
            "usa -> 16\n",
            "india -> 17\n",
            "usa -> 17\n",
            "india -> 18\n",
            "usa -> 18\n",
            "india -> 19\n",
            "usa -> 19\n",
            "india -> 20\n",
            "usa -> 20\n",
            "total time : 5.09406042098999\n"
          ]
        }
      ]
    }
  ]
}